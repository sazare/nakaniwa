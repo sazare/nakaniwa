{
 "cells": [
  {
   "cell_type": "markdown",
   "metadata": {},
   "source": [
    "# for Advent Calender 2019 Julia"
   ]
  },
  {
   "cell_type": "markdown",
   "metadata": {},
   "source": [
    "### 目的地\n",
    "1. Juliaを使って記号処理をしてみる。\n",
    "2. Termのunificationまでを目指すが、代入あたりで終了するかもしれない。量が多くなるので。\n",
    "3. 基本は手抜きで、手間のかかることは極力しない。\n",
    "4. キーワード: Meta.parse, Expr, substitution, unification"
   ]
  },
  {
   "cell_type": "markdown",
   "metadata": {},
   "source": [
    "### 定義\n",
    "1. 項(Term)\n",
    "\n",
    "- Term ::= Fterm::Expr | Variable | Constant\n",
    "- Constant ::= Symbol{not in vars}\n",
    "- Variable ::= Symbol{in vars}\n",
    "- Vars :: List(Symbol)\n",
    "\n",
    "Varsの要素のSymbolは変数とみなす。\n",
    "\n",
    "実用的には、ConstatantにNumber、StringやCharを含めることもしたいが、ここでは説明/コードが長くなるので略する。\n",
    "\n",
    "ExprはJuliaのMeta.parse()の出力。\n",
    "\n",
    "2. 代入表現\n",
    "まず、代入のメタな表現を定義する。\n",
    "\n",
    "代入は{x/f(a),y/a}でxにf(y),yにaの代入を表したりするが、ここでは{(x,y)←(f(a),a)}のように書くことにする。\n",
    "\n",
    "←の左側をV(σ)、右側をE(σ)と書く。つまり\n",
    "\n",
    "σ    = {(x,y)←(f(a),a)}\n",
    "V(σ) = (x,y)\n",
    "E(σ) = (f(a),a)\n",
    "\n",
    "である。\n",
    "\n",
    "Juliaでの表現は、代入操作を定義するときに決める。\n",
    "\n",
    "\n",
    "σを代入表現で、TをTermだとすると、Tにσを適用する代入操作は\n",
    "\n",
    "subst(ν, T, σ)\n",
    "\n",
    "と表記する。νはTに出現する変数のリストで、Tに出現しない変数を含んでいてもよい。\n",
    "Juliaでは、νの型はVList = Array{Symbol,1}とする。\n",
    "\n",
    "例\n",
    "\n",
    "T = g(x,h(y))\n",
    "とし、σを先の例とすると、この代入操作とその結果は次のようになる。\n",
    "\n",
    "subst((x,y), g(x,h(y)), (f(a),a)) = g(f(a), h(a))\n",
    "\n",
    "このように、この記事では、代入表現は単なるTermのリストとして表記する。\n",
    "σの型は、TList = Array{Term, 1}とする。\n",
    "\n",
    "V(σ)は、substの引数として与えるので、代入表現自体には変数リストは持たない。\n",
    "\n",
    "4. Unification\n",
    "T,S をTermとし、νをTとSに出現する変数のリストとするとき、TとSのunificationは\n",
    "\n",
    "unify(ν, T, S)\n",
    "\n",
    "と表記する。\n"
   ]
  },
  {
   "cell_type": "markdown",
   "metadata": {},
   "source": [
    "Exprの例"
   ]
  },
  {
   "cell_type": "code",
   "execution_count": 1,
   "metadata": {},
   "outputs": [
    {
     "name": "stdout",
     "output_type": "stream",
     "text": [
      "Expr\n",
      "  head: Symbol call\n",
      "  args: Array{Any}((3,))\n",
      "    1: Symbol f\n",
      "    2: Symbol x\n",
      "    3: Symbol y\n"
     ]
    }
   ],
   "source": [
    "e=Meta.parse(\"f(x,y)\")\n",
    "dump(e)"
   ]
  },
  {
   "cell_type": "markdown",
   "metadata": {},
   "source": [
    "このように、Exprは(head,args)である。headは関数呼び出しなら:callで、他にもいくつかあるが、この記事では:callしかでてこない。特徴的なことは関数記号もargsの先頭要素として含まれるという点で、これは、ExprがLISPのS式の拡張になっているということのように見える。\n",
    "他には、"
   ]
  },
  {
   "cell_type": "code",
   "execution_count": 2,
   "metadata": {},
   "outputs": [
    {
     "data": {
      "text/plain": [
       ":(f(g(x), a))"
      ]
     },
     "execution_count": 2,
     "metadata": {},
     "output_type": "execute_result"
    }
   ],
   "source": [
    "e2=Meta.parse(\"f(g(x),a)\")\n",
    "e2"
   ]
  },
  {
   "cell_type": "markdown",
   "metadata": {},
   "source": [
    "### Julia 定義"
   ]
  },
  {
   "cell_type": "code",
   "execution_count": 3,
   "metadata": {
    "scrolled": true
   },
   "outputs": [
    {
     "data": {
      "text/plain": [
       "Array{Union{Expr, Symbol},1}"
      ]
     },
     "execution_count": 3,
     "metadata": {},
     "output_type": "execute_result"
    }
   ],
   "source": [
    "FTerm=Expr\n",
    "Term=Union{Symbol, Expr}\n",
    "\n",
    "VList = Array{Symbol, 1}\n",
    "TList = Array{Term, 1}\n"
   ]
  },
  {
   "cell_type": "markdown",
   "metadata": {},
   "source": [
    "### Testを使う"
   ]
  },
  {
   "cell_type": "code",
   "execution_count": 4,
   "metadata": {},
   "outputs": [],
   "source": [
    "using Test"
   ]
  },
  {
   "cell_type": "markdown",
   "metadata": {},
   "source": [
    "一回目はtestは失敗し、定義したあともう一度実行すると成功する"
   ]
  },
  {
   "cell_type": "markdown",
   "metadata": {},
   "source": [
    "### 基本関数"
   ]
  },
  {
   "cell_type": "code",
   "execution_count": 5,
   "metadata": {},
   "outputs": [
    {
     "data": {
      "text/plain": [
       "isvar (generic function with 1 method)"
      ]
     },
     "execution_count": 5,
     "metadata": {},
     "output_type": "execute_result"
    }
   ],
   "source": [
    "isvar(ν::VList, e::Symbol) = e in ν "
   ]
  },
  {
   "cell_type": "code",
   "execution_count": 6,
   "metadata": {},
   "outputs": [
    {
     "data": {
      "text/plain": [
       "isvar (generic function with 2 methods)"
      ]
     },
     "execution_count": 6,
     "metadata": {},
     "output_type": "execute_result"
    }
   ],
   "source": [
    "isvar(ν::VList, e::Expr) = false"
   ]
  },
  {
   "cell_type": "code",
   "execution_count": 7,
   "metadata": {},
   "outputs": [
    {
     "name": "stdout",
     "output_type": "stream",
     "text": [
      "\u001b[37m\u001b[1mTest Summary: | \u001b[22m\u001b[39m\u001b[32m\u001b[1mPass  \u001b[22m\u001b[39m\u001b[36m\u001b[1mTotal\u001b[22m\u001b[39m\n",
      "isvar(symbol) | \u001b[32m   2  \u001b[39m\u001b[36m    2\u001b[39m\n"
     ]
    },
    {
     "data": {
      "text/plain": [
       "Test.DefaultTestSet(\"isvar(symbol)\", Any[], 2, false)"
      ]
     },
     "execution_count": 7,
     "metadata": {},
     "output_type": "execute_result"
    }
   ],
   "source": [
    "@testset \"isvar(symbol)\" begin\n",
    "    @test isvar([:x,:y], :a) == false\n",
    "    @test isvar([:x,:y], :x) == true\n",
    "end"
   ]
  },
  {
   "cell_type": "code",
   "execution_count": 8,
   "metadata": {},
   "outputs": [
    {
     "name": "stdout",
     "output_type": "stream",
     "text": [
      "\u001b[37m\u001b[1mTest Summary: | \u001b[22m\u001b[39m\u001b[32m\u001b[1mPass  \u001b[22m\u001b[39m\u001b[36m\u001b[1mTotal\u001b[22m\u001b[39m\n",
      "isvar(expr)   | \u001b[32m   2  \u001b[39m\u001b[36m    2\u001b[39m\n"
     ]
    },
    {
     "data": {
      "text/plain": [
       "Test.DefaultTestSet(\"isvar(expr)\", Any[], 2, false)"
      ]
     },
     "execution_count": 8,
     "metadata": {},
     "output_type": "execute_result"
    }
   ],
   "source": [
    "@testset \"isvar(expr)\" begin\n",
    "    @test isvar([:x,:y], :(f(x,y))) == false\n",
    "    @test isvar([:x,:y], :(f(g(x),y))) == false\n",
    "end"
   ]
  },
  {
   "cell_type": "markdown",
   "metadata": {},
   "source": [
    "### 代入操作"
   ]
  },
  {
   "cell_type": "markdown",
   "metadata": {},
   "source": [
    "substの第三引数をTListにすると、subst0の第三引数がUnionになって型が一致しないエラーになったのでArrayにした。"
   ]
  },
  {
   "cell_type": "code",
   "execution_count": 9,
   "metadata": {},
   "outputs": [
    {
     "data": {
      "text/plain": [
       "subst0 (generic function with 2 methods)"
      ]
     },
     "execution_count": 9,
     "metadata": {},
     "output_type": "execute_result"
    }
   ],
   "source": [
    "function subst(ν::VList, t::Symbol, σ::Array)\n",
    "    map(function(ν, σ) t = subst0(ν, t, σ) end, ν, σ)\n",
    "    t\n",
    "end\n",
    "\n",
    "function subst0(ν::Symbol, t::Symbol, σ::Term)\n",
    "    if ν == t; return σ\n",
    "        else return t\n",
    "    end\n",
    "end\n",
    "\n",
    "function subst(ν::VList, t::Expr, σ::Array)\n",
    "    map(function(ν, σ) t = subst0(ν, t, σ) end, ν, σ)\n",
    "    t\n",
    "end\n",
    "\n",
    "function subst0(ν::Symbol, t::Expr, σ::Term)\n",
    "    nargs = []\n",
    "    for e in t.args\n",
    "        push!(nargs, subst0(ν, e, σ))\n",
    "    end\n",
    "    t.args=nargs\n",
    "    return t\n",
    "end"
   ]
  },
  {
   "cell_type": "markdown",
   "metadata": {},
   "source": [
    "function subst(ν::VList, t::Symbol, σ::TList)\n",
    "    map(function(ν, σ) t = subst0(ν, t, σ) end, ν, σ)\n",
    "    t\n",
    "end\n",
    "\n",
    "function subst0(ν::Symbol, t::Symbol, σ::Term)\n",
    "    if ν == t; return σ\n",
    "        else return t\n",
    "    end\n",
    "end\n",
    "\n",
    "function subst(ν::VList, t::Expr, σ::TList)\n",
    "    map(function(ν, σ) t = subst0(ν, t, σ) end, ν, σ)\n",
    "    t\n",
    "end\n",
    "\n",
    "function subst0(ν::Symbol, t::Expr, σ::Term)\n",
    "    nargs = []\n",
    "    for e in t.args\n",
    "        push!(nargs, subst0(ν, e, σ))\n",
    "    end\n",
    "    t.args=nargs\n",
    "    return t\n",
    "end"
   ]
  },
  {
   "cell_type": "code",
   "execution_count": 10,
   "metadata": {},
   "outputs": [
    {
     "name": "stdout",
     "output_type": "stream",
     "text": [
      "\u001b[37m\u001b[1mTest Summary:    | \u001b[22m\u001b[39m\u001b[32m\u001b[1mPass  \u001b[22m\u001b[39m\u001b[36m\u001b[1mTotal\u001b[22m\u001b[39m\n",
      "subst0 on symbol | \u001b[32m   4  \u001b[39m\u001b[36m    4\u001b[39m\n"
     ]
    },
    {
     "data": {
      "text/plain": [
       "Test.DefaultTestSet(\"subst0 on symbol\", Any[], 4, false)"
      ]
     },
     "execution_count": 10,
     "metadata": {},
     "output_type": "execute_result"
    }
   ],
   "source": [
    "@testset \"subst0 on symbol\" begin\n",
    "    @test subst0(:a, :a, :a) == :a\n",
    "    @test subst0(:b, :a, :a) == :a\n",
    "    @test subst0(:a, :a, :b) == :b\n",
    "    @test subst0(:a, :a, :(f(x))) == :(f(x))\n",
    "end"
   ]
  },
  {
   "cell_type": "code",
   "execution_count": 11,
   "metadata": {},
   "outputs": [
    {
     "name": "stdout",
     "output_type": "stream",
     "text": [
      "\u001b[37m\u001b[1mTest Summary:   | \u001b[22m\u001b[39m\u001b[32m\u001b[1mPass  \u001b[22m\u001b[39m\u001b[36m\u001b[1mTotal\u001b[22m\u001b[39m\n",
      "subst on symbol | \u001b[32m   4  \u001b[39m\u001b[36m    4\u001b[39m\n"
     ]
    },
    {
     "data": {
      "text/plain": [
       "Test.DefaultTestSet(\"subst on symbol\", Any[], 4, false)"
      ]
     },
     "execution_count": 11,
     "metadata": {},
     "output_type": "execute_result"
    }
   ],
   "source": [
    "@testset \"subst on symbol\" begin\n",
    "    @test subst([:a], :a, [:a]) == :a\n",
    "    @test subst([:b], :a, [:a]) == :a\n",
    "    @test subst([:a], :a, [:b]) == :b\n",
    "    @test subst([:a], :a, [:(f(x))]) == :(f(x))\n",
    "end"
   ]
  },
  {
   "cell_type": "code",
   "execution_count": 12,
   "metadata": {
    "scrolled": true
   },
   "outputs": [
    {
     "name": "stdout",
     "output_type": "stream",
     "text": [
      "\u001b[37m\u001b[1mTest Summary:  | \u001b[22m\u001b[39m\u001b[32m\u001b[1mPass  \u001b[22m\u001b[39m\u001b[36m\u001b[1mTotal\u001b[22m\u001b[39m\n",
      "subst0 on Expr | \u001b[32m   5  \u001b[39m\u001b[36m    5\u001b[39m\n"
     ]
    },
    {
     "data": {
      "text/plain": [
       "Test.DefaultTestSet(\"subst0 on Expr\", Any[], 5, false)"
      ]
     },
     "execution_count": 12,
     "metadata": {},
     "output_type": "execute_result"
    }
   ],
   "source": [
    "@testset \"subst0 on Expr\" begin\n",
    "    @test subst0(:a, :(f(x)), :a) == :(f(x))\n",
    "    @test subst0(:a, :(f(x)), :b) == :(f(x))\n",
    "    @test subst0(:x, :(f(x)), :a) == :(f(a))\n",
    "    @test subst0(:y, :(f(x)), :(f(b))) == :(f(x))\n",
    "    # the next is ng when this line was deleted???\n",
    "    @test subst0(:x, :(f(x)), :(g(b))) == :(f(g(b)))\n",
    "\n",
    "end"
   ]
  },
  {
   "cell_type": "code",
   "execution_count": 13,
   "metadata": {},
   "outputs": [
    {
     "name": "stdout",
     "output_type": "stream",
     "text": [
      "\u001b[37m\u001b[1mTest Summary: | \u001b[22m\u001b[39m\u001b[32m\u001b[1mPass  \u001b[22m\u001b[39m\u001b[36m\u001b[1mTotal\u001b[22m\u001b[39m\n",
      "subst on Expr | \u001b[32m   8  \u001b[39m\u001b[36m    8\u001b[39m\n"
     ]
    },
    {
     "data": {
      "text/plain": [
       "Test.DefaultTestSet(\"subst on Expr\", Any[], 8, false)"
      ]
     },
     "execution_count": 13,
     "metadata": {},
     "output_type": "execute_result"
    }
   ],
   "source": [
    "@testset \"subst on Expr\" begin\n",
    "    @test subst([:a,:b], :(f(x)), [:a,:b]) == :(f(x))\n",
    "    @test subst([:a,:b], :(f(x)), [:b,:c]) == :(f(x))\n",
    "    @test subst([:x,:b], :(f(x)), [:a,:b]) == :(f(a))\n",
    "    @test subst([:a,:x], :(f(x)), [:a,:b]) == :(f(b))\n",
    "    @test subst([:x,:y], :(f(x,y)), [:d,:e]) == :(f(d,e))\n",
    "    @test subst([:x,:y], :(f(x,y,z)), [:(g(b)),:y]) == :(f(g(b),y,z))\n",
    "    @test subst([:x,:y], :(f(x,y,z)), [:(g(b)),:(h(d))]) == :(f(g(b),h(d),z))\n",
    "    @test subst([:x,:y], :(f(x,z,y)), [:(g(b)),:(h(d))]) == :(f(g(b),z,h(d)))\n",
    "end"
   ]
  },
  {
   "cell_type": "markdown",
   "metadata": {},
   "source": [
    "### Unification"
   ]
  },
  {
   "cell_type": "markdown",
   "metadata": {},
   "source": [
    "あれ? σ作るのたいへんではないか??\n"
   ]
  },
  {
   "cell_type": "code",
   "execution_count": 14,
   "metadata": {},
   "outputs": [],
   "source": [
    "abstract type UnifyException <: Exception end\n",
    "struct UnifyFAIL <: UnifyException\n",
    "    left\n",
    "    right\n",
    "end\n",
    "struct UnifyLOOP <: UnifyException \n",
    "    left\n",
    "    right\n",
    "end"
   ]
  },
  {
   "cell_type": "markdown",
   "metadata": {},
   "source": [
    "案1 \n",
    "σの中身を変えるとき、毎回、対応する変数の位置をしらべて、書き換えなくてはならない。\n",
    "これはめんどうなので\n",
    "一時的にDict{V}::Termに格納して、最後にTermだけ抜き出すとか・・・\n",
    "案2\n",
    "cheaplogicでは、インデックス計算している。\n",
    "そんなに遅くはないような気もするが気持ち悪い。\n",
    "\n",
    "★いつのまにか間違ったことをしていたと思う\n",
    "\n",
    "たぶん、1つの式の中の変数の数はそれほど多くないので、インデックス計算でもそれほど性能悪化していないのだろう。\n",
    "これをDictでやると、よけいに時間がかかりそう。メモリは余分に必要になる。\n",
    "\n",
    "cheaplogicのままでよさそう。\n"
   ]
  },
  {
   "cell_type": "code",
   "execution_count": null,
   "metadata": {},
   "outputs": [],
   "source": [
    "function vindex(vars::Vlist, v::Symbol)\n",
    " ix = findfirst(x->x==v,vars)\n",
    " if ix == nothing; return 0 end\n",
    " return ix\n",
    "end\n",
    "\n",
    "function putsigma(ν::VList, σ::TList, ix::Number, t::Term)\n",
    "   σ[ix] = t \n",
    "end"
   ]
  },
  {
   "cell_type": "code",
   "execution_count": null,
   "metadata": {},
   "outputs": [],
   "source": [
    "@testset \"vindex\" begin\n",
    "    @test vindex([:x,:y,:z], :x) == 1\n",
    "    @test vindex([:x,:y,:z], :y) == 2\n",
    "    @test vindex([:x,:y,:z], :z) == 3\n",
    "    @test vindex([:x,:y,:z], :w) == 0\n",
    "end\n",
    "\n",
    "@testset \"putsigma\" begin\n",
    "    @test putsigma([:x,:y],[:x,:(f(y)),:y)],1,:a) == [:a,:(f(y))]\n",
    "    @test_throws UnifyFAIL putsigma([:x,:y],[:x,:(f(y)),:y)],2,:a)\n",
    "    \n",
    "end\n"
   ]
  },
  {
   "cell_type": "code",
   "execution_count": 17,
   "metadata": {},
   "outputs": [
    {
     "data": {
      "text/plain": [
       "unify1 (generic function with 1 method)"
      ]
     },
     "execution_count": 17,
     "metadata": {},
     "output_type": "execute_result"
    }
   ],
   "source": [
    "function unify(ν::VList, t1::Expr, t2::Expr)::TList\n",
    "end\n",
    "\n",
    "function unify(ν::VList, t1::Symbol, t2::Expr)::TList\n",
    "    throw(UnifyFAIL(t1,t2))\n",
    "end\n",
    "\n",
    "function unify(ν::VList, t1::Expr, t2::Symbol)::TList\n",
    "    throw(UnifyFAIL(t1,t2))\n",
    "end\n",
    "\n",
    "function unify(ν::VList, t1::Symbol, t2::Symbol)::TList\n",
    "    if !isvar(ν, t1) && !isvar(ν, t2) && t1!=t2\n",
    "    throw(UnifyFAIL(t1,t2))\n",
    "    end\n",
    "end\n",
    "\n",
    "function unify1(ν::VList, t1::Array, t2::Array)::TList\n",
    "end\n"
   ]
  },
  {
   "cell_type": "code",
   "execution_count": null,
   "metadata": {},
   "outputs": [],
   "source": [
    "@testset \"unify normal\" begin\n",
    "    @test unify([], :x, :x) == []\n",
    "    @test unify([:x], :x, :x) == [:x]\n",
    "    @test unify([:x], :x, :a) == [:a]\n",
    "    @test unify([:x,:y], :x, :a) == [:a,:y]\n",
    "    \n",
    "    @test unify([:x], :(f(x,y)), :(f(a,b))) = [:a,:b]\n",
    "\n",
    "    @test unify([:x,:y], :x, :y) == [:y,:y] # an implementation choice\n",
    "    @test unify([:x,:y], :y, :x) == [:x,:x] # an implementation choice\n",
    "    \n",
    "    @test unify([:x,:y],:(f(x,y)),:(f(y,x))) == [:y,:y] # an implementation choice\n",
    "\n",
    "    @test unify([:x,:y,:z,:w], :(f(g(x),y,k(y))), :(f(z,h(z),w))) == [:x,:(h(g(x))),:(g(x)),:(k(h(g(x))))]\n",
    "                \n",
    "end"
   ]
  },
  {
   "cell_type": "code",
   "execution_count": null,
   "metadata": {},
   "outputs": [],
   "source": [
    "@testset \"unify fail\" begin\n",
    "    @test_throws UnifyFAIL unify([], :a, :b)\n",
    "    @test_throws UnifyFAIL unify([x,y], :(f(x)), :(g(x)))\n",
    "    @test_throws UnifyFAIL unify([x,y], :(f(a)), :(f(b)))\n",
    "    @test_throws UnifyFAIL unify([x,y], :(f(g(x))), :(f(h(y))))\n",
    "    \n",
    "end\n"
   ]
  },
  {
   "cell_type": "code",
   "execution_count": null,
   "metadata": {},
   "outputs": [],
   "source": [
    "@testset \"unify loop error\" begin\n",
    "    @test_throws UnifyLOOP unify([:x], :x, :(f(x)))\n",
    "    \n",
    "    @test_throws UnifyLOOP unify([:x,:y], :(f(x,x)), :(f(x,g(y))))\n",
    "    @test_throws UnifyLOOP unify([:x,:y], :(f(x,g(y))), :(f(x,x)))\n",
    "\n",
    "    \n",
    "end"
   ]
  },
  {
   "cell_type": "code",
   "execution_count": null,
   "metadata": {},
   "outputs": [],
   "source": []
  }
 ],
 "metadata": {
  "kernelspec": {
   "display_name": "Julia 1.2.0",
   "language": "julia",
   "name": "julia-1.2"
  },
  "language_info": {
   "file_extension": ".jl",
   "mimetype": "application/julia",
   "name": "julia",
   "version": "1.2.0"
  }
 },
 "nbformat": 4,
 "nbformat_minor": 2
}
